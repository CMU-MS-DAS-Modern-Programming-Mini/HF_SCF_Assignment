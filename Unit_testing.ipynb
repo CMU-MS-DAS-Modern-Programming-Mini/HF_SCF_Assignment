{
 "cells": [
  {
   "cell_type": "code",
   "execution_count": 1,
   "id": "34ff4aba",
   "metadata": {},
   "outputs": [
    {
     "name": "stderr",
     "output_type": "stream",
     "text": [
      "/opt/anaconda3/envs/venv/lib/python3.8/site-packages/pyscf/lib/misc.py:46: H5pyDeprecationWarning: Using default_file_mode other than 'r' is deprecated. Pass the mode to h5py.File() instead.\n",
      "  h5py.get_config().default_file_mode = 'a'\n"
     ]
    }
   ],
   "source": [
    "from pyscf import gto  # PySCF is a quantum chemistry python module\n",
    "import SCF\n",
    "import numpy as np"
   ]
  },
  {
   "cell_type": "code",
   "execution_count": 2,
   "id": "99f39c84",
   "metadata": {},
   "outputs": [],
   "source": [
    "# Input Data\n",
    "mol_h2o = gto.M(unit=\"Bohr\",\n",
    "                atom=\"O 0.000000000000  -0.143225816552   0.000000000000;\"\n",
    "                + \"H 1.638036840407   1.136548822547  -0.000000000000;\"\n",
    "                + \"H -1.638036840407   1.136548822547  -0.000000000000\",\n",
    "                basis='STO-3g')\n",
    "mol_h2o.build()\n",
    "\n",
    "# Convergence Criteria\n",
    "E_conv_threshold = 1.0E-10\n",
    "D_conv_threshold = 1.0E-8\n",
    "max_iterations = 1000\n",
    "\n",
    "# get the integrals\n",
    "Suv = mol_h2o.intor('int1e_ovlp')  # Overlap Integrals\n",
    "Tuv = mol_h2o.intor('int1e_kin')  # Kinetic Energy 1 electron integrals\n",
    "Vuv = mol_h2o.intor('int1e_nuc')  # Nuclear Repulsion 1 electron integrals\n",
    "eri = mol_h2o.intor(\"int2e\")  # Electron Repulsion 2 electron integrals"
   ]
  },
  {
   "cell_type": "code",
   "execution_count": 3,
   "id": "4eeccd20",
   "metadata": {},
   "outputs": [
    {
     "name": "stdout",
     "output_type": "stream",
     "text": [
      "(7, 7)\n",
      "(7, 7)\n",
      "(7, 7, 7, 7)\n"
     ]
    }
   ],
   "source": [
    "print(Tuv.shape)\n",
    "print(Vuv.shape)\n",
    "\n",
    "print(eri.shape) # 4-D, electron1, electron2, spin1, spin2"
   ]
  },
  {
   "cell_type": "code",
   "execution_count": 4,
   "id": "d400d5d9",
   "metadata": {},
   "outputs": [
    {
     "name": "stdout",
     "output_type": "stream",
     "text": [
      "8.00236706181077\n"
     ]
    }
   ],
   "source": [
    "Enuc = SCF.calc_nuclear_repulsion_energy(mol_h2o)\n",
    "print(Enuc)"
   ]
  },
  {
   "cell_type": "code",
   "execution_count": 5,
   "id": "a2633629",
   "metadata": {},
   "outputs": [
    {
     "name": "stdout",
     "output_type": "stream",
     "text": [
      "-32.57739541261037 0.0 0.0\n",
      "(7, 7)\n"
     ]
    }
   ],
   "source": [
    "Huv = SCF.calc_hcore_matrix(Tuv, Vuv)\n",
    "print(Huv[0, 0], Huv[3, 4], Huv[4, 3])\n",
    "print(Huv.shape)"
   ]
  },
  {
   "cell_type": "code",
   "execution_count": 6,
   "id": "88fd53dd",
   "metadata": {},
   "outputs": [
    {
     "name": "stdout",
     "output_type": "stream",
     "text": [
      "[[0. 0. 0. 0. 0. 0. 0.]\n",
      " [0. 0. 0. 0. 0. 0. 0.]\n",
      " [0. 0. 0. 0. 0. 0. 0.]\n",
      " [0. 0. 0. 0. 0. 0. 0.]\n",
      " [0. 0. 0. 0. 0. 0. 0.]\n",
      " [0. 0. 0. 0. 0. 0. 0.]\n",
      " [0. 0. 0. 0. 0. 0. 0.]]\n",
      "(7, 7)\n"
     ]
    }
   ],
   "source": [
    "Duv = SCF.calc_initial_density(mol_h2o)\n",
    "print(Duv)\n",
    "print(Duv.shape)"
   ]
  },
  {
   "cell_type": "code",
   "execution_count": 7,
   "id": "b0d63e17",
   "metadata": {},
   "outputs": [],
   "source": [
    "for it in range(max_iterations):\n",
    "    Fuv = SCF.calc_fock_matrix(mol_h2o, Huv, eri, Duv)\n",
    "    mo_e, mo_c = SCF.solve_Roothan_equations(Fuv, Suv)\n",
    "    \n",
    "    Etot_new = SCF.calc_tot_energy(Fuv, Huv, Duv, Enuc)\n",
    "    Duv_new = SCF.form_density_matrix(mol_h2o, mo_c)\n",
    "    break"
   ]
  },
  {
   "cell_type": "code",
   "execution_count": 8,
   "id": "1301156b",
   "metadata": {},
   "outputs": [
    {
     "name": "stdout",
     "output_type": "stream",
     "text": [
      "-32.57739541261037\n",
      "-1.6751501447185013\n",
      "-1.6751501447185015\n"
     ]
    }
   ],
   "source": [
    "print(Fuv[0, 0])\n",
    "print(Fuv[2, 5])\n",
    "print(Fuv[5, 2])"
   ]
  },
  {
   "cell_type": "code",
   "execution_count": 9,
   "id": "459bc893",
   "metadata": {},
   "outputs": [
    {
     "name": "stdout",
     "output_type": "stream",
     "text": [
      "[-32.57830292  -8.08153571  -7.55008599  -7.36396923  -7.34714487\n",
      "  -4.00229867  -3.98111115]\n",
      "\n",
      "[-1.00154358e+00 -2.33624458e-01  3.49050635e-16 -8.56842145e-02\n",
      " -1.10314884e-29  4.82226067e-02 -1.11404715e-15]\n",
      "(7,) (7, 7)\n"
     ]
    }
   ],
   "source": [
    "print(mo_e)\n",
    "print()\n",
    "print(mo_c[0, :])\n",
    "print(mo_e.shape, mo_c.shape)"
   ]
  },
  {
   "cell_type": "code",
   "execution_count": 10,
   "id": "5ef3bcda",
   "metadata": {},
   "outputs": [
    {
     "name": "stdout",
     "output_type": "stream",
     "text": [
      "8.00236706181077\n"
     ]
    }
   ],
   "source": [
    "print(Etot_new)"
   ]
  },
  {
   "cell_type": "code",
   "execution_count": 11,
   "id": "f6aaebbf",
   "metadata": {},
   "outputs": [
    {
     "name": "stdout",
     "output_type": "stream",
     "text": [
      "2.130023428655503\n",
      "-0.292263302096531 -0.292263302096531\n"
     ]
    }
   ],
   "source": [
    "print(Duv_new[0, 0])\n",
    "print(Duv_new[2, 5], Duv_new[5, 2])"
   ]
  },
  {
   "cell_type": "code",
   "execution_count": null,
   "id": "a78320cb",
   "metadata": {},
   "outputs": [],
   "source": []
  }
 ],
 "metadata": {
  "kernelspec": {
   "display_name": "Python 3 (ipykernel)",
   "language": "python",
   "name": "python3"
  },
  "language_info": {
   "codemirror_mode": {
    "name": "ipython",
    "version": 3
   },
   "file_extension": ".py",
   "mimetype": "text/x-python",
   "name": "python",
   "nbconvert_exporter": "python",
   "pygments_lexer": "ipython3",
   "version": "3.8.11"
  }
 },
 "nbformat": 4,
 "nbformat_minor": 5
}
